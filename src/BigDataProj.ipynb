{
  "nbformat": 4,
  "nbformat_minor": 0,
  "metadata": {
    "colab": {
      "provenance": []
    },
    "kernelspec": {
      "name": "python3",
      "display_name": "Python 3"
    },
    "language_info": {
      "name": "python"
    }
  },
  "cells": [
    {
      "cell_type": "markdown",
      "source": [
        "1.Data Loading"
      ],
      "metadata": {
        "id": "3cwqUcGzL1WS"
      }
    },
    {
      "cell_type": "code",
      "source": [
        "pip install emoji"
      ],
      "metadata": {
        "colab": {
          "base_uri": "https://localhost:8080/"
        },
        "id": "ehnlqrxs9Zp5",
        "outputId": "05e024ad-39ed-4022-98bb-49d56b842aca"
      },
      "execution_count": null,
      "outputs": [
        {
          "output_type": "stream",
          "name": "stdout",
          "text": [
            "Collecting emoji\n",
            "  Downloading emoji-2.14.1-py3-none-any.whl.metadata (5.7 kB)\n",
            "Downloading emoji-2.14.1-py3-none-any.whl (590 kB)\n",
            "\u001b[2K   \u001b[90m━━━━━━━━━━━━━━━━━━━━━━━━━━━━━━━━━━━━━━━━\u001b[0m \u001b[32m590.6/590.6 kB\u001b[0m \u001b[31m10.1 MB/s\u001b[0m eta \u001b[36m0:00:00\u001b[0m\n",
            "\u001b[?25hInstalling collected packages: emoji\n",
            "Successfully installed emoji-2.14.1\n"
          ]
        }
      ]
    },
    {
      "cell_type": "code",
      "source": [
        "# 1. Imports and setup\n",
        "from pyspark.sql import SparkSession\n",
        "from pyspark.sql.functions import col, explode, isnan, isnull, count, when, udf\n",
        "from pyspark.sql.types import StringType\n",
        "from pyspark.sql.window import Window\n",
        "from pyspark.sql.functions import countDistinct\n",
        "from pyspark.ml.feature import RegexTokenizer\n",
        "\n",
        "import re\n",
        "import string\n",
        "import emoji\n",
        "\n",
        "# Initialize Spark session\n",
        "spark = SparkSession.builder.appName(\"TwitterSentimentAnalysis\").getOrCreate()\n",
        "\n",
        "# Load the CSV files with column names\n",
        "columns = ['id', 'entity', 'sentiment', 'tweet']\n",
        "train_df = spark.read.csv('/content/twitter_training.csv', header=False, inferSchema=True).toDF(*columns)\n",
        "test_df = spark.read.csv('/content/twitter_validation.csv', header=False, inferSchema=True).toDF(*columns)\n",
        "\n",
        "# Select only 'sentiment' and 'tweet' columns\n",
        "train_df = train_df.select(\"sentiment\", \"tweet\")\n",
        "test_df = test_df.select(\"sentiment\", \"tweet\")\n",
        "\n",
        "# Combine train and test DataFrames\n",
        "tweets_df = train_df.union(test_df)\n",
        "\n",
        "# Show schema and a few rows\n",
        "tweets_df.printSchema()\n",
        "tweets_df.show(5)"
      ],
      "metadata": {
        "colab": {
          "base_uri": "https://localhost:8080/"
        },
        "id": "MXjjFUPvKpsD",
        "outputId": "1a221d76-e17c-47db-a3ee-b3387852eb9f"
      },
      "execution_count": null,
      "outputs": [
        {
          "output_type": "stream",
          "name": "stdout",
          "text": [
            "root\n",
            " |-- sentiment: string (nullable = true)\n",
            " |-- tweet: string (nullable = true)\n",
            "\n",
            "+---------+--------------------+\n",
            "|sentiment|               tweet|\n",
            "+---------+--------------------+\n",
            "| Positive|im getting on bor...|\n",
            "| Positive|I am coming to th...|\n",
            "| Positive|im getting on bor...|\n",
            "| Positive|im coming on bord...|\n",
            "| Positive|im getting on bor...|\n",
            "+---------+--------------------+\n",
            "only showing top 5 rows\n",
            "\n"
          ]
        }
      ]
    },
    {
      "cell_type": "code",
      "source": [
        "# Count missing values in each column\n",
        "tweets_df.select([\n",
        "    count(when(isnull(c) | isnan(c), c)).alias(c) for c in tweets_df.columns\n",
        "]).show()\n",
        "\n",
        "# Count duplicate rows\n",
        "duplicate_count = tweets_df.groupBy(\"sentiment\", \"tweet\").count().filter(\"count > 1\").count()\n",
        "print(\"Duplicate Tweets:\", duplicate_count)"
      ],
      "metadata": {
        "colab": {
          "base_uri": "https://localhost:8080/"
        },
        "id": "6HP_qiosJ6tS",
        "outputId": "b5483eef-9512-42f7-f005-5a4d8b9cbc5a"
      },
      "execution_count": null,
      "outputs": [
        {
          "output_type": "stream",
          "name": "stdout",
          "text": [
            "+---------+-----+\n",
            "|sentiment|tweet|\n",
            "+---------+-----+\n",
            "|      495| 1196|\n",
            "+---------+-----+\n",
            "\n",
            "Duplicate Tweets: 2709\n"
          ]
        }
      ]
    },
    {
      "cell_type": "code",
      "source": [
        "# Drop rows with nulls\n",
        "tweets_df = tweets_df.dropna()\n",
        "\n",
        "# Drop exact duplicate rows\n",
        "tweets_df = tweets_df.dropDuplicates()\n",
        "\n",
        "# Drop tweets with conflicting sentiments (same tweet, different sentiment)\n",
        "from pyspark.sql.window import Window\n",
        "from pyspark.sql.functions import countDistinct\n",
        "\n",
        "conflict_check = tweets_df.groupBy(\"tweet\").agg(countDistinct(\"sentiment\").alias(\"sentiment_count\"))\n",
        "conflict_tweets = conflict_check.filter(\"sentiment_count > 1\")\n",
        "\n",
        "# Join to filter out conflicting tweets\n",
        "tweets_df = tweets_df.join(conflict_tweets, on=\"tweet\", how=\"left_anti\")\n",
        "\n",
        "# Show cleaned data\n",
        "tweets_df.show(5)"
      ],
      "metadata": {
        "colab": {
          "base_uri": "https://localhost:8080/"
        },
        "id": "k1aFcpsKKDcC",
        "outputId": "c329eeb4-cb3f-4e03-ce7d-1b7d7fafa98e"
      },
      "execution_count": null,
      "outputs": [
        {
          "output_type": "stream",
          "name": "stdout",
          "text": [
            "+--------------------+---------+\n",
            "|               tweet|sentiment|\n",
            "+--------------------+---------+\n",
            "|Just uninstalled ...| Positive|\n",
            "|Messed up downloa...|  Neutral|\n",
            "|Actually. I rathe...| Positive|\n",
            "| bURn aALL tHe BiES.|  Neutral|\n",
            "|Sunday Funday! En...| Positive|\n",
            "+--------------------+---------+\n",
            "only showing top 5 rows\n",
            "\n"
          ]
        }
      ]
    },
    {
      "cell_type": "markdown",
      "source": [
        "2.Data Preprocessing"
      ],
      "metadata": {
        "id": "YH7J9KDGL4uf"
      }
    },
    {
      "cell_type": "markdown",
      "source": [
        "2.1 Data Cleaning"
      ],
      "metadata": {
        "id": "Mn-qKSucL_xt"
      }
    },
    {
      "cell_type": "code",
      "source": [
        "# 2. Data Cleaning UDF\n",
        "def pre_process(text: str) -> str:\n",
        "    if text is None:\n",
        "        return \"\"\n",
        "\n",
        "    # Lowercase\n",
        "    text = text.lower()\n",
        "\n",
        "    # Remove URLs\n",
        "    text = re.sub(r'https?://\\S+', '', text)\n",
        "\n",
        "    # Remove new lines\n",
        "    text = re.sub(r'[\\r\\n]+', ' ', text)\n",
        "\n",
        "    # Remove mentions\n",
        "    text = re.sub(r'@\\w+', '', text)\n",
        "\n",
        "    # Remove hashtags\n",
        "    text = re.sub(r'#\\w+', '', text)\n",
        "\n",
        "    # Replace multiple spaces with single space\n",
        "    text = re.sub(r'\\s+', ' ', text)\n",
        "\n",
        "    # Remove punctuation\n",
        "    text = text.translate(str.maketrans('', '', string.punctuation))\n",
        "\n",
        "    # Convert emojis to text\n",
        "    text = emoji.demojize(text)\n",
        "\n",
        "    return text.strip()\n",
        "\n",
        "# Register cleaning UDF\n",
        "pre_process_udf = udf(pre_process, StringType())\n",
        "\n",
        "# Apply cleaning UDF\n",
        "tweets_df = tweets_df.withColumn(\"clean_tweet\", pre_process_udf(col(\"tweet\")))\n",
        "# Show cleaned tweets\n",
        "tweets_df.select(\"tweet\", \"clean_tweet\").show(5, truncate=False)"
      ],
      "metadata": {
        "colab": {
          "base_uri": "https://localhost:8080/"
        },
        "id": "MVjQD9P4LtQN",
        "outputId": "987d6527-2980-40f2-8484-3a29c4b58092"
      },
      "execution_count": null,
      "outputs": [
        {
          "output_type": "stream",
          "name": "stdout",
          "text": [
            "+--------------------------------------------------------------------------------------------------------------------------------------------------------------------------------------------------------------------+------------------------------------------------------------------------------------------------------------------------------------------------------------------------------------------------------------------+\n",
            "|tweet                                                                                                                                                                                                               |clean_tweet                                                                                                                                                                                                       |\n",
            "+--------------------------------------------------------------------------------------------------------------------------------------------------------------------------------------------------------------------+------------------------------------------------------------------------------------------------------------------------------------------------------------------------------------------------------------------+\n",
            "|Just uninstalled all of my other games to make space for Borderlands 3 .                                                                                                                                            |just uninstalled all of my other games to make space for borderlands 3                                                                                                                                            |\n",
            "|Messed up downloading the new borderlands 3 dlc yet again. Assume the update is the patch and dlc, but like the previous one even with the season pass this has to be immediately added from ps store and downloaded|messed up downloading the new borderlands 3 dlc yet again assume the update is the patch and dlc but like the previous one even with the season pass this has to be immediately added from ps store and downloaded|\n",
            "|Actually. I rather think 13 borderlands 3 might be my 5th fave. 3 But then it certainly wouldn't be stand alone.... But still god do I really love and enjoy bl3!!!                                                 |actually i rather think 13 borderlands 3 might be my 5th fave 3 but then it certainly wouldnt be stand alone but still god do i really love and enjoy bl3                                                         |\n",
            "|bURn aALL tHe BiES.                                                                                                                                                                                                 |burn aall the bies                                                                                                                                                                                                |\n",
            "|Sunday Funday! Enjoying Borderlands 3 twitch.tv / mad _ man31                                                                                                                                                       |sunday funday enjoying borderlands 3 twitchtv  mad  man31                                                                                                                                                         |\n",
            "+--------------------------------------------------------------------------------------------------------------------------------------------------------------------------------------------------------------------+------------------------------------------------------------------------------------------------------------------------------------------------------------------------------------------------------------------+\n",
            "only showing top 5 rows\n",
            "\n"
          ]
        }
      ]
    },
    {
      "cell_type": "markdown",
      "source": [
        "2.2 Tokenization"
      ],
      "metadata": {
        "id": "xBQce9CnMgrt"
      }
    },
    {
      "cell_type": "code",
      "source": [
        "# Tokenization using RegexTokenizer (Spark native)\n",
        "tokenizer = RegexTokenizer(inputCol=\"clean_tweet\", outputCol=\"tokens\", pattern=\"\\\\W\")\n",
        "\n",
        "tweets_df = tokenizer.transform(tweets_df)\n",
        "\n",
        "# Show tokenized results\n",
        "tweets_df.select(\"clean_tweet\", \"tokens\").show(5, truncate=False)"
      ],
      "metadata": {
        "colab": {
          "base_uri": "https://localhost:8080/"
        },
        "id": "YGpBo_VgT_Xp",
        "outputId": "bb2cf084-a5f7-4698-8e33-b7b1a6c74cd3"
      },
      "execution_count": null,
      "outputs": [
        {
          "output_type": "stream",
          "name": "stdout",
          "text": [
            "+------------------------------------------------------------------------------------------------------------------------------------------------------------------------------------------------------------------+----------------------------------------------------------------------------------------------------------------------------------------------------------------------------------------------------------------------------------------------------------+\n",
            "|clean_tweet                                                                                                                                                                                                       |tokens                                                                                                                                                                                                                                                    |\n",
            "+------------------------------------------------------------------------------------------------------------------------------------------------------------------------------------------------------------------+----------------------------------------------------------------------------------------------------------------------------------------------------------------------------------------------------------------------------------------------------------+\n",
            "|just uninstalled all of my other games to make space for borderlands 3                                                                                                                                            |[just, uninstalled, all, of, my, other, games, to, make, space, for, borderlands, 3]                                                                                                                                                                      |\n",
            "|messed up downloading the new borderlands 3 dlc yet again assume the update is the patch and dlc but like the previous one even with the season pass this has to be immediately added from ps store and downloaded|[messed, up, downloading, the, new, borderlands, 3, dlc, yet, again, assume, the, update, is, the, patch, and, dlc, but, like, the, previous, one, even, with, the, season, pass, this, has, to, be, immediately, added, from, ps, store, and, downloaded]|\n",
            "|actually i rather think 13 borderlands 3 might be my 5th fave 3 but then it certainly wouldnt be stand alone but still god do i really love and enjoy bl3                                                         |[actually, i, rather, think, 13, borderlands, 3, might, be, my, 5th, fave, 3, but, then, it, certainly, wouldnt, be, stand, alone, but, still, god, do, i, really, love, and, enjoy, bl3]                                                                 |\n",
            "|burn aall the bies                                                                                                                                                                                                |[burn, aall, the, bies]                                                                                                                                                                                                                                   |\n",
            "|sunday funday enjoying borderlands 3 twitchtv  mad  man31                                                                                                                                                         |[sunday, funday, enjoying, borderlands, 3, twitchtv, mad, man31]                                                                                                                                                                                          |\n",
            "+------------------------------------------------------------------------------------------------------------------------------------------------------------------------------------------------------------------+----------------------------------------------------------------------------------------------------------------------------------------------------------------------------------------------------------------------------------------------------------+\n",
            "only showing top 5 rows\n",
            "\n"
          ]
        }
      ]
    },
    {
      "cell_type": "code",
      "source": [
        "# 4. Token counts (word count and vocabulary size)\n",
        "\n",
        "# Explode tokens into individual words and filter out empty tokens\n",
        "exploded_tokens_df = tweets_df.select(explode(col(\"tokens\")).alias(\"token\")).filter(col(\"token\") != \"\")\n",
        "\n",
        "# Count token frequencies\n",
        "tokens_count_df = exploded_tokens_df.groupBy(\"token\").count().orderBy(\"count\", ascending=False)\n",
        "\n",
        "# Calculate total word count and vocabulary size\n",
        "total_word_count = exploded_tokens_df.count()\n",
        "vocabulary_size = tokens_count_df.count()\n",
        "\n",
        "print(f\"Total Word Count\\t: {total_word_count}\")\n",
        "print(f\"Vocabulary Size\\t\\t: {vocabulary_size}\")\n",
        "\n",
        "tokens_count_df.show(10)"
      ],
      "metadata": {
        "colab": {
          "base_uri": "https://localhost:8080/"
        },
        "id": "pptRP6zvUFgZ",
        "outputId": "a06536d0-44be-4ef9-a474-e07142dda511"
      },
      "execution_count": null,
      "outputs": [
        {
          "output_type": "stream",
          "name": "stdout",
          "text": [
            "Total Word Count\t: 1306728\n",
            "Vocabulary Size\t\t: 39480\n",
            "+-----+-----+\n",
            "|token|count|\n",
            "+-----+-----+\n",
            "|  the|42634|\n",
            "|    i|30045|\n",
            "|   to|27707|\n",
            "|  and|25876|\n",
            "|    a|23425|\n",
            "|   of|18602|\n",
            "|   is|17153|\n",
            "|  for|15391|\n",
            "|   in|15095|\n",
            "| this|14308|\n",
            "+-----+-----+\n",
            "only showing top 10 rows\n",
            "\n"
          ]
        }
      ]
    },
    {
      "cell_type": "markdown",
      "source": [
        "2.3 Stopwords Removal"
      ],
      "metadata": {
        "id": "ckveUUz1Oe0X"
      }
    },
    {
      "cell_type": "code",
      "source": [
        "import nltk\n",
        "nltk.download('punkt')\n",
        "nltk.download('stopwords')\n",
        "nltk.download('wordnet')"
      ],
      "metadata": {
        "colab": {
          "base_uri": "https://localhost:8080/"
        },
        "id": "rtue9ArRasCf",
        "outputId": "fd9a21f0-6803-4e28-f14d-785645985b54"
      },
      "execution_count": null,
      "outputs": [
        {
          "output_type": "stream",
          "name": "stderr",
          "text": [
            "[nltk_data] Downloading package punkt to /root/nltk_data...\n",
            "[nltk_data]   Package punkt is already up-to-date!\n",
            "[nltk_data] Downloading package stopwords to /root/nltk_data...\n",
            "[nltk_data]   Package stopwords is already up-to-date!\n",
            "[nltk_data] Downloading package wordnet to /root/nltk_data...\n",
            "[nltk_data]   Package wordnet is already up-to-date!\n"
          ]
        },
        {
          "output_type": "execute_result",
          "data": {
            "text/plain": [
              "True"
            ]
          },
          "metadata": {},
          "execution_count": 57
        }
      ]
    },
    {
      "cell_type": "code",
      "source": [
        "from pyspark.ml.feature import RegexTokenizer\n",
        "\n",
        "# Step 1: Tokenize into 'new_tokens' to avoid conflict\n",
        "tokenizer = RegexTokenizer(inputCol=\"clean_tweet\", outputCol=\"new_tokens\", pattern=\"\\\\W\")\n",
        "tweets_df = tokenizer.transform(tweets_df)\n",
        "\n",
        "# Step 2: Drop old 'tokens' column (if exists), then rename 'new_tokens' to 'tokens'\n",
        "tweets_df = tweets_df.drop(\"tokens\").withColumnRenamed(\"new_tokens\", \"tokens\")\n",
        "\n",
        "# Optional: Show to confirm\n",
        "tweets_df.select(\"clean_tweet\", \"tokens\").show(5, truncate=False)"
      ],
      "metadata": {
        "colab": {
          "base_uri": "https://localhost:8080/"
        },
        "id": "MOWazpYQcKF3",
        "outputId": "2865749a-a9cb-4150-8b93-81e86b1deac9"
      },
      "execution_count": null,
      "outputs": [
        {
          "output_type": "stream",
          "name": "stdout",
          "text": [
            "+------------------------------------------------------------------------------------------------------------------------------------------------------------------------------------------------------------------+----------------------------------------------------------------------------------------------------------------------------------------------------------------------------------------------------------------------------------------------------------+\n",
            "|clean_tweet                                                                                                                                                                                                       |tokens                                                                                                                                                                                                                                                    |\n",
            "+------------------------------------------------------------------------------------------------------------------------------------------------------------------------------------------------------------------+----------------------------------------------------------------------------------------------------------------------------------------------------------------------------------------------------------------------------------------------------------+\n",
            "|just uninstalled all of my other games to make space for borderlands 3                                                                                                                                            |[just, uninstalled, all, of, my, other, games, to, make, space, for, borderlands, 3]                                                                                                                                                                      |\n",
            "|messed up downloading the new borderlands 3 dlc yet again assume the update is the patch and dlc but like the previous one even with the season pass this has to be immediately added from ps store and downloaded|[messed, up, downloading, the, new, borderlands, 3, dlc, yet, again, assume, the, update, is, the, patch, and, dlc, but, like, the, previous, one, even, with, the, season, pass, this, has, to, be, immediately, added, from, ps, store, and, downloaded]|\n",
            "|actually i rather think 13 borderlands 3 might be my 5th fave 3 but then it certainly wouldnt be stand alone but still god do i really love and enjoy bl3                                                         |[actually, i, rather, think, 13, borderlands, 3, might, be, my, 5th, fave, 3, but, then, it, certainly, wouldnt, be, stand, alone, but, still, god, do, i, really, love, and, enjoy, bl3]                                                                 |\n",
            "|burn aall the bies                                                                                                                                                                                                |[burn, aall, the, bies]                                                                                                                                                                                                                                   |\n",
            "|sunday funday enjoying borderlands 3 twitchtv  mad  man31                                                                                                                                                         |[sunday, funday, enjoying, borderlands, 3, twitchtv, mad, man31]                                                                                                                                                                                          |\n",
            "+------------------------------------------------------------------------------------------------------------------------------------------------------------------------------------------------------------------+----------------------------------------------------------------------------------------------------------------------------------------------------------------------------------------------------------------------------------------------------------+\n",
            "only showing top 5 rows\n",
            "\n"
          ]
        }
      ]
    },
    {
      "cell_type": "code",
      "source": [
        "from pyspark.ml.feature import StopWordsRemover\n",
        "\n",
        "# 1. Get default English stopwords from Spark\n",
        "default_stopwords = StopWordsRemover.loadDefaultStopWords(\"english\")\n",
        "\n",
        "# 2. Customize stopwords list:\n",
        "#    - Remove important negations to keep sentiment\n",
        "important_words = {\n",
        "    'not', 'no', 'nor', \"don't\", \"doesn't\", \"didn't\", \"isn't\", \"wasn't\",\n",
        "    \"weren't\", \"won't\", \"can't\", \"couldn't\", \"shouldn't\", \"wouldn't\",\n",
        "    \"haven't\", \"hasn't\", \"hadn't\", \"ain\", \"aren\", \"needn\", \"shan\", \"mustn\", \"mightn\", \"wouldn\"\n",
        "}\n",
        "\n",
        "# Remove important words from stopwords\n",
        "filtered_stopwords = [w for w in default_stopwords if w not in important_words]\n",
        "\n",
        "# Add 'im' to stopwords explicitly\n",
        "filtered_stopwords.append('im')\n",
        "\n",
        "# 3. Create StopWordsRemover with custom stopwords list\n",
        "remover = StopWordsRemover(inputCol=\"tokens\", outputCol=\"filtered_tokens\", stopWords=filtered_stopwords)\n",
        "\n",
        "# 4. Apply to your DataFrame\n",
        "tweets_df = remover.transform(tweets_df)\n",
        "\n",
        "# 5. Show results\n",
        "tweets_df.select(\"tokens\", \"filtered_tokens\").show(5, truncate=False)\n"
      ],
      "metadata": {
        "colab": {
          "base_uri": "https://localhost:8080/"
        },
        "id": "SZz0iuPpcX_Q",
        "outputId": "d30c4046-ede6-4e03-ae1f-0bb28a8476c4"
      },
      "execution_count": null,
      "outputs": [
        {
          "output_type": "stream",
          "name": "stdout",
          "text": [
            "+----------------------------------------------------------------------------------------------------------------------------------------------------------------------------------------------------------------------------------------------------------+--------------------------------------------------------------------------------------------------------------------------------------------------------------------+\n",
            "|tokens                                                                                                                                                                                                                                                    |filtered_tokens                                                                                                                                                     |\n",
            "+----------------------------------------------------------------------------------------------------------------------------------------------------------------------------------------------------------------------------------------------------------+--------------------------------------------------------------------------------------------------------------------------------------------------------------------+\n",
            "|[just, uninstalled, all, of, my, other, games, to, make, space, for, borderlands, 3]                                                                                                                                                                      |[uninstalled, games, make, space, borderlands, 3]                                                                                                                   |\n",
            "|[messed, up, downloading, the, new, borderlands, 3, dlc, yet, again, assume, the, update, is, the, patch, and, dlc, but, like, the, previous, one, even, with, the, season, pass, this, has, to, be, immediately, added, from, ps, store, and, downloaded]|[messed, downloading, new, borderlands, 3, dlc, yet, assume, update, patch, dlc, like, previous, one, even, season, pass, immediately, added, ps, store, downloaded]|\n",
            "|[actually, i, rather, think, 13, borderlands, 3, might, be, my, 5th, fave, 3, but, then, it, certainly, wouldnt, be, stand, alone, but, still, god, do, i, really, love, and, enjoy, bl3]                                                                 |[actually, rather, think, 13, borderlands, 3, might, 5th, fave, 3, certainly, wouldnt, stand, alone, still, god, really, love, enjoy, bl3]                          |\n",
            "|[burn, aall, the, bies]                                                                                                                                                                                                                                   |[burn, aall, bies]                                                                                                                                                  |\n",
            "|[sunday, funday, enjoying, borderlands, 3, twitchtv, mad, man31]                                                                                                                                                                                          |[sunday, funday, enjoying, borderlands, 3, twitchtv, mad, man31]                                                                                                    |\n",
            "+----------------------------------------------------------------------------------------------------------------------------------------------------------------------------------------------------------------------------------------------------------+--------------------------------------------------------------------------------------------------------------------------------------------------------------------+\n",
            "only showing top 5 rows\n",
            "\n"
          ]
        }
      ]
    },
    {
      "cell_type": "markdown",
      "source": [
        "6.Stemming"
      ],
      "metadata": {
        "id": "p2ISDlxIO4CG"
      }
    },
    {
      "cell_type": "code",
      "source": [
        "from pyspark.sql.functions import udf\n",
        "from pyspark.sql.types import ArrayType, StringType\n",
        "from nltk.stem import PorterStemmer\n",
        "\n",
        "# 1. Define stemming function\n",
        "def apply_stemming(tokens):\n",
        "    stemmer = PorterStemmer()\n",
        "    return [stemmer.stem(token) for token in tokens]\n",
        "\n",
        "# 2. Create UDF\n",
        "stemming_udf = udf(apply_stemming, ArrayType(StringType()))\n",
        "\n",
        "# 3. Apply UDF to DataFrame\n",
        "tweets_df = tweets_df.withColumn(\"stemmed_tokens\", stemming_udf(col(\"filtered_tokens\")))\n",
        "\n",
        "# 4. Show before/after example\n",
        "tweets_df.select(\"filtered_tokens\", \"stemmed_tokens\").show(5, truncate=False)"
      ],
      "metadata": {
        "colab": {
          "base_uri": "https://localhost:8080/"
        },
        "id": "r2p2kXGX-KtC",
        "outputId": "30c518c0-e201-4f97-fa13-c35a550a78e1"
      },
      "execution_count": null,
      "outputs": [
        {
          "output_type": "stream",
          "name": "stdout",
          "text": [
            "+--------------------------------------------------------------------------------------------------------------------------------------------------------------------+-------------------------------------------------------------------------------------------------------------------------------------------------+\n",
            "|filtered_tokens                                                                                                                                                     |stemmed_tokens                                                                                                                                   |\n",
            "+--------------------------------------------------------------------------------------------------------------------------------------------------------------------+-------------------------------------------------------------------------------------------------------------------------------------------------+\n",
            "|[uninstalled, games, make, space, borderlands, 3]                                                                                                                   |[uninstal, game, make, space, borderland, 3]                                                                                                     |\n",
            "|[messed, downloading, new, borderlands, 3, dlc, yet, assume, update, patch, dlc, like, previous, one, even, season, pass, immediately, added, ps, store, downloaded]|[mess, download, new, borderland, 3, dlc, yet, assum, updat, patch, dlc, like, previou, one, even, season, pass, immedi, ad, ps, store, download]|\n",
            "|[actually, rather, think, 13, borderlands, 3, might, 5th, fave, 3, certainly, wouldnt, stand, alone, still, god, really, love, enjoy, bl3]                          |[actual, rather, think, 13, borderland, 3, might, 5th, fave, 3, certainli, wouldnt, stand, alon, still, god, realli, love, enjoy, bl3]           |\n",
            "|[burn, aall, bies]                                                                                                                                                  |[burn, aall, bie]                                                                                                                                |\n",
            "|[sunday, funday, enjoying, borderlands, 3, twitchtv, mad, man31]                                                                                                    |[sunday, funday, enjoy, borderland, 3, twitchtv, mad, man31]                                                                                     |\n",
            "+--------------------------------------------------------------------------------------------------------------------------------------------------------------------+-------------------------------------------------------------------------------------------------------------------------------------------------+\n",
            "only showing top 5 rows\n",
            "\n"
          ]
        }
      ]
    },
    {
      "cell_type": "markdown",
      "source": [
        "8.Feature Extraction"
      ],
      "metadata": {
        "id": "Siev4ezvD4Cq"
      }
    },
    {
      "cell_type": "code",
      "source": [
        "from pyspark.ml.feature import Word2Vec\n",
        "\n",
        "# 1. Initialize Word2Vec model\n",
        "word2vec = Word2Vec(\n",
        "    vectorSize=100,\n",
        "    windowSize=5,\n",
        "    minCount=5,\n",
        "    inputCol=\"stemmed_tokens\",\n",
        "    outputCol=\"word2vec_features\",\n",
        "    seed=42,\n",
        "    maxIter=10\n",
        ")\n",
        "\n",
        "# 2. Train model\n",
        "w2v_model = word2vec.fit(tweets_df)\n",
        "\n",
        "# 3. Transform the DataFrame to add word vector representations\n",
        "tweets_df = w2v_model.transform(tweets_df)\n",
        "\n",
        "# 4. Show results\n",
        "tweets_df.select(\"stemmed_tokens\", \"word2vec_features\").show(5, truncate=False)"
      ],
      "metadata": {
        "colab": {
          "base_uri": "https://localhost:8080/"
        },
        "id": "3aG_3QOz_tGR",
        "outputId": "5dd069f2-82cc-49c4-cea7-64b8e46043af"
      },
      "execution_count": null,
      "outputs": [
        {
          "output_type": "stream",
          "name": "stdout",
          "text": [
            "+-------------------------------------------------------------------------------------------------------------------------------------------------+--------------------------------------------------------------------------------------------------------------------------------------------------------------------------------------------------------------------------------------------------------------------------------------------------------------------------------------------------------------------------------------------------------------------------------------------------------------------------------------------------------------------------------------------------------------------------------------------------------------------------------------------------------------------------------------------------------------------------------------------------------------------------------------------------------------------------------------------------------------------------------------------------------------------------------------------------------------------------------------------------------------------------------------------------------------------------------------------------------------------------------------------------------------------------------------------------------------------------------------------------------------------------------------------------------------------------------------------------------------------------------------------------------------------------------------------------------------------------------------------------------------------------------------------------------------------------------------------------------------------------------------------------------------------------------------------------------------------------------------------------------------------------------------------------------------------------------------------------------------------------------------------------------------------------------------------------------------------------------------------------------------------------------------------------------------------------------------------------------------------------------------------------+\n",
            "|stemmed_tokens                                                                                                                                   |word2vec_features                                                                                                                                                                                                                                                                                                                                                                                                                                                                                                                                                                                                                                                                                                                                                                                                                                                                                                                                                                                                                                                                                                                                                                                                                                                                                                                                                                                                                                                                                                                                                                                                                                                                                                                                                                                                                                                                                                                                                                                                                                                                                                                                 |\n",
            "+-------------------------------------------------------------------------------------------------------------------------------------------------+--------------------------------------------------------------------------------------------------------------------------------------------------------------------------------------------------------------------------------------------------------------------------------------------------------------------------------------------------------------------------------------------------------------------------------------------------------------------------------------------------------------------------------------------------------------------------------------------------------------------------------------------------------------------------------------------------------------------------------------------------------------------------------------------------------------------------------------------------------------------------------------------------------------------------------------------------------------------------------------------------------------------------------------------------------------------------------------------------------------------------------------------------------------------------------------------------------------------------------------------------------------------------------------------------------------------------------------------------------------------------------------------------------------------------------------------------------------------------------------------------------------------------------------------------------------------------------------------------------------------------------------------------------------------------------------------------------------------------------------------------------------------------------------------------------------------------------------------------------------------------------------------------------------------------------------------------------------------------------------------------------------------------------------------------------------------------------------------------------------------------------------------------+\n",
            "|[uninstal, game, make, space, borderland, 3]                                                                                                     |[0.2535587701325615,-0.022200681269168854,-0.014320727360124389,-0.18495006766170263,-0.15253057641287643,0.11314784867378572,-0.13457043655216694,0.025648901859919228,0.22202248374621072,-0.04739734220008055,-0.09640595689415932,0.13623895775526762,0.17304453525381783,0.10950620224078496,0.0270421061043938,-0.0034097256138920784,-0.16955315538992483,-0.10818931832909584,0.11021002356816703,-0.11293225238720575,-0.2612210342970987,-0.027453818668921787,-0.08209403092041612,0.09250074252486229,-0.17082158103585243,0.010607824971278507,0.12770961225032806,0.24443314286569753,-0.0018003260095914204,-0.12540242075920105,-0.04962698618570963,0.06925260904245079,0.036668396244446434,-0.2399884493400653,0.07039417621369162,-0.06780987147552271,-0.0623237124333779,-0.11402834920833507,0.0030544673403104143,0.13454877583232397,0.027958227631946404,0.029971778392791748,0.1075092436124881,-0.08282500381271043,-0.260936813428998,0.1053828438743949,-0.02907748365153869,-0.04297622976203759,-0.015145822117726008,0.14588140820463497,-0.049806588950256504,-0.12830480312307674,-0.11076344549655914,-0.109890166670084,0.2346421331167221,0.2571206217010816,0.06708098631740236,0.14091714192181826,-0.11077082498619953,0.2007891225318114,-0.08992952108383179,-0.06675827177241445,0.06674135872162879,-0.004356348266204198,0.11730205578108628,-0.12530610710382462,-0.05600242130458355,-0.09353920072317123,0.11898222317298253,-0.06084600692959914,-0.16584599049141008,-0.09256817369411388,0.3325920170173049,0.23680515214800835,0.07370188211401303,-0.20917071029543877,-0.06185722102721532,-0.04363557789474726,-0.006109394133090973,-0.03409332192192475,0.01663738302886486,0.050710792342821755,-0.01057120816161235,0.08712484563390413,-0.18534278372923532,0.2679100187961012,0.021102660646041233,-0.09983033252259095,0.2867792509496212,-0.1090232040733099,-0.16448730633904535,0.07440383670230706,-0.11749041321066518,0.12880336431165534,-0.06846609152853489,0.007017301395535469,0.040848596642414726,-0.07679141561190286,-0.031101984282334644,0.1387077586259693]      |\n",
            "|[mess, download, new, borderland, 3, dlc, yet, assum, updat, patch, dlc, like, previou, one, even, season, pass, immedi, ad, ps, store, download]|[0.22917407130907205,0.04949705395847559,-0.061379655306650835,-0.06946966029830616,-0.021126546976368198,-0.05940848419612105,0.04092227489772168,0.18765667474574663,0.06050017211501572,-0.10868707265366208,-0.20818151228807188,0.01406181620603258,0.12296771164983511,-0.09261366259306669,0.048807412184859546,-0.025789250662042337,0.005022877001796257,0.06051319318992848,0.01641317533159798,-0.06934060111895882,-0.05081141960214485,-0.04917911567132582,0.06831669464538044,0.1198534949428656,0.024745183150199326,-0.0010145768015222116,0.1657278768887574,0.05754065144943028,-0.06025313679128885,-0.04984764456325634,0.07415076790758493,0.28744454302994366,-0.04244888335762715,0.01691853923892433,0.06432401918044145,-0.08917687850242312,-0.026497280055826362,-0.044890820239247245,0.13069696572016587,0.02301058217629113,-0.12504810848358003,0.13206134795803914,-0.09176158024506136,-0.10206118557305838,-0.1573917931792411,0.030929889688691634,-0.01280354293571277,0.16275602338877931,0.023984260253862223,0.0020439509006047792,-0.1486852129773152,-0.006424415771934119,-0.06085755692964251,-0.01824332843137778,0.19162814446132292,0.24463692510669882,-0.04632771082899787,0.019348641010847958,-0.21766620425676758,0.09251704354855148,0.06589829811657016,-0.021486625414003025,0.15576348220929503,-0.15149749794297598,-0.2032671031669121,0.009130433185915039,0.015600167458284308,-0.11132054291771386,0.06743218559263782,-0.09631747622390983,-0.02954791738143699,-4.2389028451659465E-4,0.1147646471773359,-0.019570035436613994,-0.09512304019352252,-0.003703320007347925,0.028606301004236397,0.016761366531930187,0.18177476381375032,0.08972566998140379,0.025369495230155404,-0.19806434704646977,-0.1514332240701399,0.234404364770109,0.003583389249714938,0.11000713888047771,-0.0439075930044055,0.08740279451012611,0.2751099813242697,-0.028016077269884674,0.04107060012492267,0.06299079247665676,0.03724712629231032,0.29519985331518744,0.10907408544285731,0.04956412182020193,-0.20695430141958324,0.020083904774351555,0.0020852312445640564,0.052055714588442985]|\n",
            "|[actual, rather, think, 13, borderland, 3, might, 5th, fave, 3, certainli, wouldnt, stand, alon, still, god, realli, love, enjoy, bl3]           |[0.27120206225663424,-0.007091898331418634,-0.05697911495808512,0.06394325376022607,0.034023631107993425,0.2071419332176447,0.028455209436651786,0.1440061045344919,0.1116588770528324,-0.06159415179863573,-0.07739472390385345,0.014264116622507574,0.029125491110607984,-0.11766680562868714,0.05361197562888265,0.00983353485353291,-0.09323007659986615,-0.03488374156877399,0.09669508776860312,0.00941101172938943,-0.058853226061910395,-0.06838171980343759,0.10638027483364568,-0.054332276061177256,-0.037631054834491806,0.021822780743241312,0.019587361719459295,-0.003948451019823551,0.020934170763939622,-0.1096838056575507,0.12233552369289101,0.1258293310645968,0.03476662486791611,-0.10150276119820774,-0.07558077471330762,0.05457347193732858,0.013978173024952412,-0.1115453344071284,0.0017962839454412462,0.08826369466260076,-0.1712461409624666,0.11937551560113208,-0.08123904606327415,-0.17987384721636773,-0.14821947643067687,-0.04306482847314328,0.03270677684340626,0.011881219781935216,-0.08801356507465244,-0.07868515332229437,0.002736925845965743,-0.08161205463111401,-0.0638278053374961,-0.2079443421214819,0.1077847654465586,-0.06964556000893936,-0.01941653648391366,-0.07373862955719233,-0.07544087062124163,0.0595069591421634,-0.024470677599310875,0.10461011035367847,0.2745266511105001,0.14490486516151577,0.09451976520940662,0.011502123484387995,0.1317409908398986,-0.11435482986271382,-0.05052334297215566,-0.1648577763496178,-0.10576756190275774,0.036839225230505694,0.09128888624254615,0.08111015991307796,-0.03848758863750845,-0.08146063690073789,0.1696422139648348,-0.10973615180701018,0.044275104999542236,-0.013114197505638005,-0.0974353387253359,-0.08056045380653815,-0.057969671604223554,0.13582146679982543,-0.14136074637062848,-0.09364095143973827,0.11181651307269931,-0.17144069261848927,0.15418975307256916,0.09729004488326609,-0.09900361676700414,0.0638493194244802,-0.10401651655556635,0.10236264653503896,-0.17256199996918442,0.04037744288798422,-0.06244216111954302,-0.08952006585896016,0.04300876556080766,0.011517960811033845]        |\n",
            "|[burn, aall, bie]                                                                                                                                |[-0.009311915064851442,0.060961286226908364,-0.07465531428654988,0.21744964520136514,0.031061222155888874,0.1559027334054311,-0.050333206852277115,0.18881922960281372,-0.018764724334081013,-0.1626146634419759,0.12031461795171101,-0.07443111638228098,-0.0993611216545105,-0.08021614452203114,-0.04603052635987599,0.08702378471692403,-0.20082732041676837,-0.05091799795627594,0.05539846420288086,0.09734740853309631,0.027506843209266663,0.03542484839757283,-0.038374858597914376,0.2959192593892415,-0.0052494003127018605,0.1690167784690857,0.05443706115086873,-0.0788077712059021,-0.08120247721672058,-0.172495166460673,0.06622487306594849,-0.037357243398825325,-0.13289594650268555,-0.052966659267743424,-0.06547529995441437,-0.12799574931462604,0.11133169134457906,0.09204983711242676,-0.18105324109395343,0.016613325724999108,0.05324701964855194,-0.01053981731335322,0.011215393741925556,-0.15491603811581928,0.04492838184038798,-0.04349624117215474,0.06311335663000742,0.11905471483866373,-0.0880344013373057,-0.07034700612227121,0.126007338364919,0.006177873040239016,0.36523258686065674,0.029419437050819397,-0.3287254969278971,-0.04549094537893931,-0.07730609178543091,-0.09889435768127441,0.13608715931574503,0.1193693180878957,-0.09373817841211954,0.14328207572301227,0.03602593392133713,-0.16312332948048908,-0.05747754375139872,0.1749946077664693,-0.02058954412738482,-0.11798207958539327,-0.14872074127197266,0.17609186967213947,-0.08279681702454884,0.20519914229710895,-0.09425334135691324,0.1631089746952057,0.1131513218084971,0.08839879433314005,0.043474639455477394,-0.14781788984934488,0.11317668358484903,0.04056410243113835,-0.11304550369580586,-0.022377279897530872,0.04824062685171763,0.11931288242340088,0.10506012042363484,-0.061421483755111694,-0.15825671950976053,-0.2711556752522786,-0.105215718348821,0.27816474437713623,-0.029658598204453785,0.019382781038681664,0.04667814075946808,0.10150898496309915,0.17721180121103922,0.008385502422849337,0.08567788203557332,-0.009527627378702164,-0.1517186164855957,-0.2347727020581563]              |\n",
            "|[sunday, funday, enjoy, borderland, 3, twitchtv, mad, man31]                                                                                     |[0.03805700270459056,0.03934396058320999,-0.1304883086704649,0.010539036011323333,0.18338937585940585,0.20033048908226192,-0.1666200216859579,0.08849687082692981,0.10209644818678498,0.00261650700122118,-0.0754777502734214,-0.1685168296098709,-0.002604773617349565,-0.1672056782990694,-0.141171871451661,-0.16144827380776405,-0.19111473765224218,-0.21243006689473987,0.006297838408499956,-0.22441594675183296,0.00942962127737701,0.1959733096882701,0.09492907230742276,-0.2199715794995427,-0.2603526171296835,0.13815358455758542,0.24794025160372257,0.102118369191885,-0.17818066477775574,0.03285206202417612,0.00813313527032733,0.13395243330160156,0.2055165614001453,-0.21540683507919312,0.018341119051910937,-0.1674679322168231,0.15795792918652296,-0.06185929290950298,0.010032055899500847,0.13388092257082462,-0.019601986627094448,0.14569036336615682,-0.1510566957294941,-0.13856164563912898,-0.2576370108872652,-0.07649170630611479,0.11165658256504685,-0.001756438985466957,-0.07711563934572041,0.12346022622659802,0.09106149105355144,-5.532023496925831E-4,-0.1436133540701121,0.026703023351728916,0.1880139261484146,-0.06357737816870213,0.12295744952280074,0.07536725606769323,0.18046704167500138,-0.009602126199752092,0.11731548979878426,0.007950449944473803,-0.00939861312508583,0.0616601524525322,-0.027666521724313498,-0.03307854384183884,0.07069847406819463,-0.08114880044013262,0.22182776778936386,-0.1580360455883465,-0.10060014296323061,0.01149212101881858,0.2046341970562935,0.13609768636524677,-0.14063183031976223,-0.26097642071545124,0.036635925993323326,-0.07573688877164386,-0.019718592753633857,0.15709015913307667,-0.016278997994959354,-0.12320762849412858,0.18342303787358105,0.2636935655027628,-0.03837622329592705,0.10209890361875296,-0.02162706758826971,-0.056848740205168724,0.26918699499219656,0.016392579535022378,-0.14128642017021775,0.1564897052012384,-0.005699331348296255,0.122042715549469,0.027598965913057327,-0.0019856782164424658,-0.08022319215524476,0.09204601589590311,0.022439897060394287,0.08167361281812191]                     |\n",
            "+-------------------------------------------------------------------------------------------------------------------------------------------------+--------------------------------------------------------------------------------------------------------------------------------------------------------------------------------------------------------------------------------------------------------------------------------------------------------------------------------------------------------------------------------------------------------------------------------------------------------------------------------------------------------------------------------------------------------------------------------------------------------------------------------------------------------------------------------------------------------------------------------------------------------------------------------------------------------------------------------------------------------------------------------------------------------------------------------------------------------------------------------------------------------------------------------------------------------------------------------------------------------------------------------------------------------------------------------------------------------------------------------------------------------------------------------------------------------------------------------------------------------------------------------------------------------------------------------------------------------------------------------------------------------------------------------------------------------------------------------------------------------------------------------------------------------------------------------------------------------------------------------------------------------------------------------------------------------------------------------------------------------------------------------------------------------------------------------------------------------------------------------------------------------------------------------------------------------------------------------------------------------------------------------------------------+\n",
            "only showing top 5 rows\n",
            "\n"
          ]
        }
      ]
    },
    {
      "cell_type": "markdown",
      "source": [
        "7.Tokenizer and Sequence"
      ],
      "metadata": {
        "id": "Yra90WVNFBPq"
      }
    },
    {
      "cell_type": "code",
      "source": [
        "from pyspark.sql.functions import udf\n",
        "from pyspark.sql.types import StringType\n",
        "\n",
        "sc = spark.sparkContext\n",
        "join_tokens_udf = udf(lambda tokens: ' '.join(tokens), StringType())\n",
        "tweets_df = tweets_df.withColumn(\"text_for_keras\", join_tokens_udf(\"stemmed_tokens\"))\n",
        "# Collect all stemmed tokens into one flat list\n",
        "all_tokens = tweets_df.select(\"stemmed_tokens\").rdd.flatMap(lambda row: row[0]).collect()\n",
        "\n",
        "# Build vocabulary\n",
        "from collections import Counter\n",
        "token_counts = Counter(all_tokens)\n",
        "vocab = {word: idx + 1 for idx, (word, _) in enumerate(token_counts.most_common())}  # start indexing at 1\n",
        "vocab_broadcast = sc.broadcast(vocab)\n",
        "vocab_size = len(vocab) + 1\n",
        "\n",
        "from pyspark.sql.types import ArrayType, IntegerType\n",
        "\n",
        "def tokens_to_ids(tokens):\n",
        "    return [vocab_broadcast.value.get(token, 0) for token in tokens]\n",
        "\n",
        "tokens_to_ids_udf = udf(tokens_to_ids, ArrayType(IntegerType()))\n",
        "tweets_df = tweets_df.withColumn(\"sequence\", tokens_to_ids_udf(\"stemmed_tokens\"))\n",
        "\n",
        "def pad_sequence(seq, max_len=30):\n",
        "    return seq[:max_len] + [0] * max(0, max_len - len(seq))\n",
        "\n",
        "pad_udf = udf(lambda x: pad_sequence(x, 30), ArrayType(IntegerType()))\n",
        "tweets_df = tweets_df.withColumn(\"padded_sequence\", pad_udf(\"sequence\"))\n"
      ],
      "metadata": {
        "id": "TlczBxIvBQ_a"
      },
      "execution_count": null,
      "outputs": []
    },
    {
      "cell_type": "markdown",
      "source": [
        "9.Embedding Matrix"
      ],
      "metadata": {
        "id": "VFfD1o45D7Zq"
      }
    },
    {
      "cell_type": "code",
      "source": [
        "import numpy as np\n",
        "\n",
        "# 1. Get vectors from trained Word2Vec model\n",
        "vectors_df = word2vec_model.getVectors()  # 'word' and 'vector' columns\n",
        "\n",
        "# 2. Collect to driver as dictionary\n",
        "vector_dict = {row['word']: row['vector'] for row in vectors_df.collect()}\n",
        "\n",
        "# 3. Build word_index manually\n",
        "word_index = {word: idx + 1 for idx, word in enumerate(vector_dict.keys())}  # reserve 0 for padding\n",
        "vocab_size = len(word_index) + 1  # +1 for padding\n",
        "embedding_dim = len(next(iter(vector_dict.values())))  # e.g., 100\n",
        "\n",
        "# 4. Initialize embedding matrix\n",
        "embedding_matrix = np.zeros((vocab_size, embedding_dim))\n",
        "\n",
        "# 5. Fill embedding matrix\n",
        "for word, i in word_index.items():\n",
        "    embedding_matrix[i] = vector_dict[word]\n",
        "\n",
        "# Optional: Check shape and a few rows\n",
        "print(\"Embedding matrix shape:\", embedding_matrix.shape)\n",
        "print(\"Example row (word 'good'):\", embedding_matrix[word_index.get('good', 0)])"
      ],
      "metadata": {
        "colab": {
          "base_uri": "https://localhost:8080/"
        },
        "id": "63Dt_rBqDoA6",
        "outputId": "75caaee3-fcbe-4f57-8217-b5362315a0d9"
      },
      "execution_count": null,
      "outputs": [
        {
          "output_type": "stream",
          "name": "stdout",
          "text": [
            "Embedding matrix shape: (11001, 100)\n",
            "Example row (word 'good'): [ 0.09308918 -0.07503416 -0.11860801 -0.10402151  0.16536009 -0.04613244\n",
            " -0.23002866 -0.1478238  -0.18828447 -0.31009719 -0.00643335  0.1045424\n",
            " -0.03073514  0.17481788 -0.03795044  0.13302323  0.30581337  0.08479671\n",
            "  0.20612386  0.1068329  -0.17570241 -0.06867713 -0.20470241  0.10420975\n",
            " -0.03540273 -0.00524088  0.11683421 -0.1067402  -0.19985674 -0.0529584\n",
            " -0.06621923 -0.22856584  0.21196565  0.00637813 -0.06512778 -0.01977338\n",
            "  0.0785244  -0.21276802  0.27134886 -0.09526411  0.1354565   0.04117947\n",
            " -0.03063888 -0.14001371  0.21829061 -0.1183051  -0.13983014 -0.06408694\n",
            " -0.23102471  0.00310988 -0.1635762  -0.42507237  0.03061065  0.41311294\n",
            "  0.08620012 -0.15399815 -0.08440457 -0.24945642  0.04782974 -0.01582677\n",
            " -0.06142797  0.08034636 -0.0668874   0.13737564 -0.32943001 -0.24956912\n",
            " -0.04632192 -0.04327382  0.31018227 -0.40296426 -0.12425224  0.15653661\n",
            " -0.02168887  0.09479594 -0.06921974 -0.17770052  0.0556026   0.06555978\n",
            "  0.0776932   0.06445005 -0.19375414 -0.05151155  0.20507775  0.16136649\n",
            "  0.15703741 -0.15363564 -0.07600569 -0.10738239 -0.07054541 -0.14313909\n",
            "  0.05538795  0.02880353  0.02510397  0.05732253  0.53915054 -0.17587316\n",
            "  0.15595314 -0.16538173 -0.0544537   0.15128259]\n"
          ]
        }
      ]
    },
    {
      "cell_type": "markdown",
      "source": [
        "10.Train with Embeddings"
      ],
      "metadata": {
        "id": "pbet1fR5D86q"
      }
    },
    {
      "cell_type": "code",
      "source": [
        "# After processing and building embedding matrix in PySpark:\n",
        "\n",
        "# Collect tokens and labels to driver\n",
        "token_lists = tweets_df.select('stemmed_tokens').rdd.map(lambda r: r[0]).collect()\n",
        "labels = tweets_df.select('sentiment').rdd.map(lambda r: r[0]).collect()\n",
        "\n",
        "# On driver, convert tokens to sequences (using your tokenizer from Keras or a manual map)\n",
        "from tensorflow.keras.preprocessing.text import Tokenizer\n",
        "from tensorflow.keras.preprocessing.sequence import pad_sequences\n",
        "from tensorflow.keras.utils import to_categorical\n",
        "\n",
        "# Prepare texts\n",
        "texts = [' '.join(tokens) for tokens in token_lists]\n",
        "\n",
        "tokenizer = Tokenizer()\n",
        "tokenizer.fit_on_texts(texts)\n",
        "sequences = tokenizer.texts_to_sequences(texts)\n",
        "\n",
        "max_len = 30  # or as determined\n",
        "X = pad_sequences(sequences, maxlen=max_len, padding='post')\n",
        "\n",
        "# Encode labels\n",
        "label_mapping = {'Positive':0, 'Neutral':1, 'Negative':2, 'Irrelevant':3}\n",
        "y = to_categorical([label_mapping[label] for label in labels])"
      ],
      "metadata": {
        "id": "oAinSLf2Izqz"
      },
      "execution_count": null,
      "outputs": []
    },
    {
      "cell_type": "code",
      "source": [
        "import numpy as np\n",
        "from tensorflow.keras.models import Sequential\n",
        "from tensorflow.keras.layers import Embedding, Bidirectional, LSTM, Dense, Dropout\n",
        "from sklearn.model_selection import train_test_split\n",
        "import matplotlib.pyplot as plt\n",
        "\n",
        "# Build embedding matrix based on tokenizer.word_index and PySpark Word2Vec vectors\n",
        "vocab_size = len(tokenizer.word_index) + 1\n",
        "embedding_dim = 100  # from PySpark Word2Vec\n",
        "\n",
        "embedding_matrix = np.zeros((vocab_size, embedding_dim))\n",
        "for word, i in tokenizer.word_index.items():\n",
        "    if word in vector_dict:\n",
        "        embedding_matrix[i] = vector_dict[word]\n",
        "\n",
        "# Split data\n",
        "X_train, X_test, y_train, y_test = train_test_split(X, y, test_size=0.1, random_state=42)\n",
        "\n",
        "# Define model\n",
        "model = Sequential([\n",
        "    Embedding(input_dim=vocab_size, output_dim=embedding_dim, weights=[embedding_matrix], trainable=True),\n",
        "    Bidirectional(LSTM(128, dropout=0.2, recurrent_dropout=0.2)),\n",
        "    Dense(64, activation='relu'),\n",
        "    Dropout(0.5),\n",
        "    Dense(4, activation='softmax')\n",
        "])\n",
        "\n",
        "model.compile(loss='categorical_crossentropy', optimizer='adam', metrics=['accuracy'])\n",
        "model.summary()\n",
        "\n",
        "# Train\n",
        "history = model.fit(X_train, y_train, epochs=20, batch_size=64, validation_split=0.2)"
      ],
      "metadata": {
        "colab": {
          "base_uri": "https://localhost:8080/",
          "height": 1000
        },
        "id": "yC1KQmfLLmPs",
        "outputId": "5c3d7b8f-4097-4ae3-8ca9-c87176eb37ea"
      },
      "execution_count": null,
      "outputs": [
        {
          "output_type": "display_data",
          "data": {
            "text/plain": [
              "\u001b[1mModel: \"sequential\"\u001b[0m\n"
            ],
            "text/html": [
              "<pre style=\"white-space:pre;overflow-x:auto;line-height:normal;font-family:Menlo,'DejaVu Sans Mono',consolas,'Courier New',monospace\"><span style=\"font-weight: bold\">Model: \"sequential\"</span>\n",
              "</pre>\n"
            ]
          },
          "metadata": {}
        },
        {
          "output_type": "display_data",
          "data": {
            "text/plain": [
              "┏━━━━━━━━━━━━━━━━━━━━━━━━━━━━━━━━━┳━━━━━━━━━━━━━━━━━━━━━━━━┳━━━━━━━━━━━━━━━┓\n",
              "┃\u001b[1m \u001b[0m\u001b[1mLayer (type)                   \u001b[0m\u001b[1m \u001b[0m┃\u001b[1m \u001b[0m\u001b[1mOutput Shape          \u001b[0m\u001b[1m \u001b[0m┃\u001b[1m \u001b[0m\u001b[1m      Param #\u001b[0m\u001b[1m \u001b[0m┃\n",
              "┡━━━━━━━━━━━━━━━━━━━━━━━━━━━━━━━━━╇━━━━━━━━━━━━━━━━━━━━━━━━╇━━━━━━━━━━━━━━━┩\n",
              "│ embedding (\u001b[38;5;33mEmbedding\u001b[0m)           │ ?                      │     \u001b[38;5;34m3,228,700\u001b[0m │\n",
              "├─────────────────────────────────┼────────────────────────┼───────────────┤\n",
              "│ bidirectional (\u001b[38;5;33mBidirectional\u001b[0m)   │ ?                      │   \u001b[38;5;34m0\u001b[0m (unbuilt) │\n",
              "├─────────────────────────────────┼────────────────────────┼───────────────┤\n",
              "│ dense (\u001b[38;5;33mDense\u001b[0m)                   │ ?                      │   \u001b[38;5;34m0\u001b[0m (unbuilt) │\n",
              "├─────────────────────────────────┼────────────────────────┼───────────────┤\n",
              "│ dropout (\u001b[38;5;33mDropout\u001b[0m)               │ ?                      │             \u001b[38;5;34m0\u001b[0m │\n",
              "├─────────────────────────────────┼────────────────────────┼───────────────┤\n",
              "│ dense_1 (\u001b[38;5;33mDense\u001b[0m)                 │ ?                      │   \u001b[38;5;34m0\u001b[0m (unbuilt) │\n",
              "└─────────────────────────────────┴────────────────────────┴───────────────┘\n"
            ],
            "text/html": [
              "<pre style=\"white-space:pre;overflow-x:auto;line-height:normal;font-family:Menlo,'DejaVu Sans Mono',consolas,'Courier New',monospace\">┏━━━━━━━━━━━━━━━━━━━━━━━━━━━━━━━━━┳━━━━━━━━━━━━━━━━━━━━━━━━┳━━━━━━━━━━━━━━━┓\n",
              "┃<span style=\"font-weight: bold\"> Layer (type)                    </span>┃<span style=\"font-weight: bold\"> Output Shape           </span>┃<span style=\"font-weight: bold\">       Param # </span>┃\n",
              "┡━━━━━━━━━━━━━━━━━━━━━━━━━━━━━━━━━╇━━━━━━━━━━━━━━━━━━━━━━━━╇━━━━━━━━━━━━━━━┩\n",
              "│ embedding (<span style=\"color: #0087ff; text-decoration-color: #0087ff\">Embedding</span>)           │ ?                      │     <span style=\"color: #00af00; text-decoration-color: #00af00\">3,228,700</span> │\n",
              "├─────────────────────────────────┼────────────────────────┼───────────────┤\n",
              "│ bidirectional (<span style=\"color: #0087ff; text-decoration-color: #0087ff\">Bidirectional</span>)   │ ?                      │   <span style=\"color: #00af00; text-decoration-color: #00af00\">0</span> (unbuilt) │\n",
              "├─────────────────────────────────┼────────────────────────┼───────────────┤\n",
              "│ dense (<span style=\"color: #0087ff; text-decoration-color: #0087ff\">Dense</span>)                   │ ?                      │   <span style=\"color: #00af00; text-decoration-color: #00af00\">0</span> (unbuilt) │\n",
              "├─────────────────────────────────┼────────────────────────┼───────────────┤\n",
              "│ dropout (<span style=\"color: #0087ff; text-decoration-color: #0087ff\">Dropout</span>)               │ ?                      │             <span style=\"color: #00af00; text-decoration-color: #00af00\">0</span> │\n",
              "├─────────────────────────────────┼────────────────────────┼───────────────┤\n",
              "│ dense_1 (<span style=\"color: #0087ff; text-decoration-color: #0087ff\">Dense</span>)                 │ ?                      │   <span style=\"color: #00af00; text-decoration-color: #00af00\">0</span> (unbuilt) │\n",
              "└─────────────────────────────────┴────────────────────────┴───────────────┘\n",
              "</pre>\n"
            ]
          },
          "metadata": {}
        },
        {
          "output_type": "display_data",
          "data": {
            "text/plain": [
              "\u001b[1m Total params: \u001b[0m\u001b[38;5;34m3,228,700\u001b[0m (12.32 MB)\n"
            ],
            "text/html": [
              "<pre style=\"white-space:pre;overflow-x:auto;line-height:normal;font-family:Menlo,'DejaVu Sans Mono',consolas,'Courier New',monospace\"><span style=\"font-weight: bold\"> Total params: </span><span style=\"color: #00af00; text-decoration-color: #00af00\">3,228,700</span> (12.32 MB)\n",
              "</pre>\n"
            ]
          },
          "metadata": {}
        },
        {
          "output_type": "display_data",
          "data": {
            "text/plain": [
              "\u001b[1m Trainable params: \u001b[0m\u001b[38;5;34m3,228,700\u001b[0m (12.32 MB)\n"
            ],
            "text/html": [
              "<pre style=\"white-space:pre;overflow-x:auto;line-height:normal;font-family:Menlo,'DejaVu Sans Mono',consolas,'Courier New',monospace\"><span style=\"font-weight: bold\"> Trainable params: </span><span style=\"color: #00af00; text-decoration-color: #00af00\">3,228,700</span> (12.32 MB)\n",
              "</pre>\n"
            ]
          },
          "metadata": {}
        },
        {
          "output_type": "display_data",
          "data": {
            "text/plain": [
              "\u001b[1m Non-trainable params: \u001b[0m\u001b[38;5;34m0\u001b[0m (0.00 B)\n"
            ],
            "text/html": [
              "<pre style=\"white-space:pre;overflow-x:auto;line-height:normal;font-family:Menlo,'DejaVu Sans Mono',consolas,'Courier New',monospace\"><span style=\"font-weight: bold\"> Non-trainable params: </span><span style=\"color: #00af00; text-decoration-color: #00af00\">0</span> (0.00 B)\n",
              "</pre>\n"
            ]
          },
          "metadata": {}
        },
        {
          "output_type": "stream",
          "name": "stdout",
          "text": [
            "Epoch 1/20\n",
            "\u001b[1m786/786\u001b[0m \u001b[32m━━━━━━━━━━━━━━━━━━━━\u001b[0m\u001b[37m\u001b[0m \u001b[1m175s\u001b[0m 211ms/step - accuracy: 0.5052 - loss: 1.1531 - val_accuracy: 0.6926 - val_loss: 0.7956\n",
            "Epoch 2/20\n",
            "\u001b[1m786/786\u001b[0m \u001b[32m━━━━━━━━━━━━━━━━━━━━\u001b[0m\u001b[37m\u001b[0m \u001b[1m195s\u001b[0m 203ms/step - accuracy: 0.7409 - loss: 0.7098 - val_accuracy: 0.7746 - val_loss: 0.6051\n",
            "Epoch 3/20\n",
            "\u001b[1m786/786\u001b[0m \u001b[32m━━━━━━━━━━━━━━━━━━━━\u001b[0m\u001b[37m\u001b[0m \u001b[1m165s\u001b[0m 209ms/step - accuracy: 0.8411 - loss: 0.4560 - val_accuracy: 0.8159 - val_loss: 0.5136\n",
            "Epoch 4/20\n",
            "\u001b[1m786/786\u001b[0m \u001b[32m━━━━━━━━━━━━━━━━━━━━\u001b[0m\u001b[37m\u001b[0m \u001b[1m196s\u001b[0m 202ms/step - accuracy: 0.8842 - loss: 0.3307 - val_accuracy: 0.8326 - val_loss: 0.4663\n",
            "Epoch 5/20\n",
            "\u001b[1m786/786\u001b[0m \u001b[32m━━━━━━━━━━━━━━━━━━━━\u001b[0m\u001b[37m\u001b[0m \u001b[1m164s\u001b[0m 208ms/step - accuracy: 0.9091 - loss: 0.2570 - val_accuracy: 0.8473 - val_loss: 0.4628\n",
            "Epoch 6/20\n",
            "\u001b[1m786/786\u001b[0m \u001b[32m━━━━━━━━━━━━━━━━━━━━\u001b[0m\u001b[37m\u001b[0m \u001b[1m202s\u001b[0m 208ms/step - accuracy: 0.9250 - loss: 0.2099 - val_accuracy: 0.8560 - val_loss: 0.4734\n",
            "Epoch 7/20\n",
            "\u001b[1m786/786\u001b[0m \u001b[32m━━━━━━━━━━━━━━━━━━━━\u001b[0m\u001b[37m\u001b[0m \u001b[1m198s\u001b[0m 203ms/step - accuracy: 0.9379 - loss: 0.1704 - val_accuracy: 0.8577 - val_loss: 0.4972\n",
            "Epoch 8/20\n",
            "\u001b[1m786/786\u001b[0m \u001b[32m━━━━━━━━━━━━━━━━━━━━\u001b[0m\u001b[37m\u001b[0m \u001b[1m208s\u001b[0m 211ms/step - accuracy: 0.9460 - loss: 0.1479 - val_accuracy: 0.8646 - val_loss: 0.5111\n",
            "Epoch 9/20\n",
            "\u001b[1m786/786\u001b[0m \u001b[32m━━━━━━━━━━━━━━━━━━━━\u001b[0m\u001b[37m\u001b[0m \u001b[1m201s\u001b[0m 211ms/step - accuracy: 0.9537 - loss: 0.1268 - val_accuracy: 0.8596 - val_loss: 0.5881\n",
            "Epoch 10/20\n",
            "\u001b[1m786/786\u001b[0m \u001b[32m━━━━━━━━━━━━━━━━━━━━\u001b[0m\u001b[37m\u001b[0m \u001b[1m200s\u001b[0m 208ms/step - accuracy: 0.9557 - loss: 0.1182 - val_accuracy: 0.8659 - val_loss: 0.5534\n",
            "Epoch 11/20\n",
            "\u001b[1m786/786\u001b[0m \u001b[32m━━━━━━━━━━━━━━━━━━━━\u001b[0m\u001b[37m\u001b[0m \u001b[1m205s\u001b[0m 212ms/step - accuracy: 0.9623 - loss: 0.0996 - val_accuracy: 0.8690 - val_loss: 0.5784\n",
            "Epoch 12/20\n",
            "\u001b[1m786/786\u001b[0m \u001b[32m━━━━━━━━━━━━━━━━━━━━\u001b[0m\u001b[37m\u001b[0m \u001b[1m193s\u001b[0m 201ms/step - accuracy: 0.9671 - loss: 0.0889 - val_accuracy: 0.8690 - val_loss: 0.6126\n",
            "Epoch 13/20\n",
            "\u001b[1m786/786\u001b[0m \u001b[32m━━━━━━━━━━━━━━━━━━━━\u001b[0m\u001b[37m\u001b[0m \u001b[1m201s\u001b[0m 201ms/step - accuracy: 0.9675 - loss: 0.0869 - val_accuracy: 0.8679 - val_loss: 0.6629\n",
            "Epoch 14/20\n",
            "\u001b[1m786/786\u001b[0m \u001b[32m━━━━━━━━━━━━━━━━━━━━\u001b[0m\u001b[37m\u001b[0m \u001b[1m157s\u001b[0m 200ms/step - accuracy: 0.9727 - loss: 0.0737 - val_accuracy: 0.8728 - val_loss: 0.6699\n",
            "Epoch 15/20\n",
            "\u001b[1m786/786\u001b[0m \u001b[32m━━━━━━━━━━━━━━━━━━━━\u001b[0m\u001b[37m\u001b[0m \u001b[1m208s\u001b[0m 207ms/step - accuracy: 0.9731 - loss: 0.0703 - val_accuracy: 0.8728 - val_loss: 0.6811\n",
            "Epoch 16/20\n",
            "\u001b[1m786/786\u001b[0m \u001b[32m━━━━━━━━━━━━━━━━━━━━\u001b[0m\u001b[37m\u001b[0m \u001b[1m161s\u001b[0m 205ms/step - accuracy: 0.9760 - loss: 0.0636 - val_accuracy: 0.8740 - val_loss: 0.7390\n",
            "Epoch 17/20\n",
            "\u001b[1m786/786\u001b[0m \u001b[32m━━━━━━━━━━━━━━━━━━━━\u001b[0m\u001b[37m\u001b[0m \u001b[1m202s\u001b[0m 206ms/step - accuracy: 0.9765 - loss: 0.0593 - val_accuracy: 0.8761 - val_loss: 0.7605\n",
            "Epoch 18/20\n",
            "\u001b[1m786/786\u001b[0m \u001b[32m━━━━━━━━━━━━━━━━━━━━\u001b[0m\u001b[37m\u001b[0m \u001b[1m165s\u001b[0m 209ms/step - accuracy: 0.9787 - loss: 0.0571 - val_accuracy: 0.8754 - val_loss: 0.7794\n",
            "Epoch 19/20\n",
            "\u001b[1m786/786\u001b[0m \u001b[32m━━━━━━━━━━━━━━━━━━━━\u001b[0m\u001b[37m\u001b[0m \u001b[1m202s\u001b[0m 209ms/step - accuracy: 0.9791 - loss: 0.0545 - val_accuracy: 0.8789 - val_loss: 0.7534\n",
            "Epoch 20/20\n",
            "\u001b[1m786/786\u001b[0m \u001b[32m━━━━━━━━━━━━━━━━━━━━\u001b[0m\u001b[37m\u001b[0m \u001b[1m200s\u001b[0m 207ms/step - accuracy: 0.9811 - loss: 0.0493 - val_accuracy: 0.8776 - val_loss: 0.7778\n"
          ]
        }
      ]
    },
    {
      "cell_type": "code",
      "source": [
        "# Save the model in HDF5 format\n",
        "model.save('sentiment_lstm_model.h5')\n",
        "print(\"Model saved successfully.\")"
      ],
      "metadata": {
        "colab": {
          "base_uri": "https://localhost:8080/"
        },
        "id": "0ollXFA7ae9X",
        "outputId": "d65987f6-0b79-49cb-e305-c93b995a8a67"
      },
      "execution_count": null,
      "outputs": [
        {
          "output_type": "stream",
          "name": "stderr",
          "text": [
            "WARNING:absl:You are saving your model as an HDF5 file via `model.save()` or `keras.saving.save_model(model)`. This file format is considered legacy. We recommend using instead the native Keras format, e.g. `model.save('my_model.keras')` or `keras.saving.save_model(model, 'my_model.keras')`. \n"
          ]
        },
        {
          "output_type": "stream",
          "name": "stdout",
          "text": [
            "Model saved successfully.\n"
          ]
        }
      ]
    },
    {
      "cell_type": "code",
      "source": [
        "from tensorflow.keras.models import load_model\n",
        "\n",
        "# Load the model\n",
        "model = load_model('sentiment_lstm_model.h5')\n",
        "print(\"Model loaded successfully.\")"
      ],
      "metadata": {
        "id": "BO3fLruKaej_"
      },
      "execution_count": null,
      "outputs": []
    },
    {
      "cell_type": "code",
      "source": [
        "import pickle\n",
        "\n",
        "# Save tokenizer\n",
        "with open('tokenizer.pkl', 'wb') as f:\n",
        "    pickle.dump(tokenizer, f)"
      ],
      "metadata": {
        "id": "1rMgMvQoarV4"
      },
      "execution_count": null,
      "outputs": []
    },
    {
      "cell_type": "code",
      "source": [
        "# Load tokenizer\n",
        "with open('tokenizer.pkl', 'rb') as f:\n",
        "    tokenizer = pickle.load(f)"
      ],
      "metadata": {
        "id": "vdWT37sxatwf"
      },
      "execution_count": null,
      "outputs": []
    },
    {
      "cell_type": "code",
      "source": [
        "# Plot training history (accuracy and loss)\n",
        "plt.figure(figsize=(14, 5))\n",
        "\n",
        "plt.subplot(1, 2, 1)\n",
        "plt.plot(history.history['accuracy'], label='Train Accuracy')\n",
        "plt.plot(history.history['val_accuracy'], label='Validation Accuracy')\n",
        "plt.title('Accuracy')\n",
        "plt.xlabel('Epoch')\n",
        "plt.ylabel('Accuracy')\n",
        "plt.legend()\n",
        "plt.grid()\n",
        "\n",
        "plt.subplot(1, 2, 2)\n",
        "plt.plot(history.history['loss'], label='Train Loss')\n",
        "plt.plot(history.history['val_loss'], label='Validation Loss')\n",
        "plt.title('Loss')\n",
        "plt.xlabel('Epoch')\n",
        "plt.ylabel('Loss')\n",
        "plt.legend()\n",
        "plt.grid()\n",
        "\n",
        "plt.tight_layout()\n",
        "plt.show()"
      ],
      "metadata": {
        "colab": {
          "base_uri": "https://localhost:8080/",
          "height": 459
        },
        "id": "_cgxMrOTLoqk",
        "outputId": "a93c6662-d7e3-4902-e587-a84b7dfb331a"
      },
      "execution_count": null,
      "outputs": [
        {
          "output_type": "display_data",
          "data": {
            "text/plain": [
              "<Figure size 1400x500 with 2 Axes>"
            ],
            "image/png": "[encoded data removed]"
          },
          "metadata": {}
        }
      ]
    },
    {
      "cell_type": "markdown",
      "source": [
        "13.Evaluation"
      ],
      "metadata": {
        "id": "zNT5VE8cEEeK"
      }
    },
    {
      "cell_type": "code",
      "source": [
        "loss, accuracy = model.evaluate(X_test, y_test)\n",
        "print(f'Test Accuracy: {accuracy:.2f}')"
      ],
      "metadata": {
        "colab": {
          "base_uri": "https://localhost:8080/"
        },
        "id": "aBDFCjVobOEf",
        "outputId": "2f0e668e-bba4-4457-b470-1495af4f55d8"
      },
      "execution_count": null,
      "outputs": [
        {
          "output_type": "stream",
          "name": "stdout",
          "text": [
            "\u001b[1m219/219\u001b[0m \u001b[32m━━━━━━━━━━━━━━━━━━━━\u001b[0m\u001b[37m\u001b[0m \u001b[1m5s\u001b[0m 22ms/step - accuracy: 0.8784 - loss: 0.7523\n",
            "Test Accuracy: 0.88\n"
          ]
        }
      ]
    },
    {
      "cell_type": "markdown",
      "source": [
        "11.Modeling Train a classifier"
      ],
      "metadata": {
        "id": "HNNm6hLCD_qD"
      }
    },
    {
      "cell_type": "markdown",
      "source": [
        "12.Model Building with Text Preprocessing"
      ],
      "metadata": {
        "id": "n7r653sFECDq"
      }
    }
  ]
}